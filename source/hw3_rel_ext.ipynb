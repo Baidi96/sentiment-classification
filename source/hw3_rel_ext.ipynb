{
 "cells": [
  {
   "cell_type": "markdown",
   "metadata": {},
   "source": [
    "# Homework 3: Relation extraction using distant supervision"
   ]
  },
  {
   "cell_type": "code",
   "execution_count": 1,
   "metadata": {},
   "outputs": [],
   "source": [
    "__author__ = \"Bill MacCartney\"\n",
    "__version__ = \"CS224U, Stanford, Spring 2019\""
   ]
  },
  {
   "cell_type": "markdown",
   "metadata": {},
   "source": [
    "## Contents\n",
    "\n",
    "1. [Overview](#Overview)\n",
    "1. [Set-up](#Set-up)\n",
    "1. [Baseline](#Baseline)\n",
    "1. [Homework questions](#Homework-questions)\n",
    "  1. [Different model factory [1 point]](#Different-model-factory-[1-point])\n",
    "  1. [Directional unigram features [2 points]](#Directional-unigram-features-[2-points])\n",
    "  1. [The part-of-speech tags of the \"middle\" words [2 points]](#The-part-of-speech-tags-of-the-\"middle\"-words-[2-points])\n",
    "  1. [Your original system [4 points]](#Your-original-system-[4-points])\n",
    "1. [Bake-off [1 point]](#Bake-off-[1-point])"
   ]
  },
  {
   "cell_type": "markdown",
   "metadata": {},
   "source": [
    "## Overview\n",
    "\n",
    "This homework and associated bake-off are devoted to the developing really effective relation extraction systems using distant supervision. \n",
    "\n",
    "As with the previous assignments, this notebook first establishes a baseline system. The initial homework questions ask you to create additional baselines and suggest areas for innovation, and the final homework question asks you to develop an original system for you to enter into the bake-off."
   ]
  },
  {
   "cell_type": "markdown",
   "metadata": {},
   "source": [
    "## Set-up\n",
    "\n",
    "See [the first notebook in this unit](rel_ext_01_task.ipynb#Set-up) for set-up instructions."
   ]
  },
  {
   "cell_type": "code",
   "execution_count": 2,
   "metadata": {},
   "outputs": [],
   "source": [
    "import os\n",
    "import rel_ext\n",
    "from sklearn.linear_model import LogisticRegression"
   ]
  },
  {
   "cell_type": "markdown",
   "metadata": {},
   "source": [
    "As usual, we unite our corpus and KB into a dataset, and create some splits for experimentation:"
   ]
  },
  {
   "cell_type": "code",
   "execution_count": 3,
   "metadata": {},
   "outputs": [],
   "source": [
    "rel_ext_data_home = os.path.join('data', 'rel_ext_data')"
   ]
  },
  {
   "cell_type": "code",
   "execution_count": 4,
   "metadata": {},
   "outputs": [],
   "source": [
    "corpus = rel_ext.Corpus(os.path.join(rel_ext_data_home, 'corpus.tsv.gz'))"
   ]
  },
  {
   "cell_type": "code",
   "execution_count": 5,
   "metadata": {},
   "outputs": [],
   "source": [
    "kb = rel_ext.KB(os.path.join(rel_ext_data_home, 'kb.tsv.gz'))"
   ]
  },
  {
   "cell_type": "code",
   "execution_count": 6,
   "metadata": {},
   "outputs": [],
   "source": [
    "dataset = rel_ext.Dataset(corpus, kb)"
   ]
  },
  {
   "cell_type": "markdown",
   "metadata": {},
   "source": [
    "You are not wedded to this set-up for splits. The bake-off will be conducted on a previously unseen test-set, so all of the data in `dataset` is fair game:"
   ]
  },
  {
   "cell_type": "code",
   "execution_count": 7,
   "metadata": {},
   "outputs": [],
   "source": [
    "splits = dataset.build_splits(\n",
    "    split_names=['tiny', 'train', 'dev'],\n",
    "    split_fracs=[0.01, 0.79, 0.20],\n",
    "    seed=1)"
   ]
  },
  {
   "cell_type": "code",
   "execution_count": 8,
   "metadata": {},
   "outputs": [
    {
     "data": {
      "text/plain": [
       "{'tiny': Corpus with 3,474 examples; KB with 445 triples,\n",
       " 'train': Corpus with 263,285 examples; KB with 36,191 triples,\n",
       " 'dev': Corpus with 64,937 examples; KB with 9,248 triples,\n",
       " 'all': Corpus with 331,696 examples; KB with 45,884 triples}"
      ]
     },
     "execution_count": 8,
     "metadata": {},
     "output_type": "execute_result"
    }
   ],
   "source": [
    "splits"
   ]
  },
  {
   "cell_type": "markdown",
   "metadata": {},
   "source": [
    "## Baseline"
   ]
  },
  {
   "cell_type": "code",
   "execution_count": 9,
   "metadata": {},
   "outputs": [],
   "source": [
    "def simple_bag_of_words_featurizer(kbt, corpus, feature_counter):\n",
    "    for ex in corpus.get_examples_for_entities(kbt.sbj, kbt.obj):\n",
    "        for word in ex.middle.split(' '):\n",
    "            feature_counter[word] += 1\n",
    "    for ex in corpus.get_examples_for_entities(kbt.obj, kbt.sbj):\n",
    "        for word in ex.middle.split(' '):\n",
    "            feature_counter[word] += 1\n",
    "    return feature_counter"
   ]
  },
  {
   "cell_type": "code",
   "execution_count": 10,
   "metadata": {},
   "outputs": [],
   "source": [
    "featurizers = [simple_bag_of_words_featurizer]"
   ]
  },
  {
   "cell_type": "code",
   "execution_count": 11,
   "metadata": {},
   "outputs": [],
   "source": [
    "model_factory = lambda: LogisticRegression(fit_intercept=True, solver='liblinear')"
   ]
  },
  {
   "cell_type": "code",
   "execution_count": 12,
   "metadata": {},
   "outputs": [
    {
     "name": "stdout",
     "output_type": "stream",
     "text": [
      "relation              precision     recall    f-score    support       size\n",
      "------------------    ---------  ---------  ---------  ---------  ---------\n",
      "adjoins                   0.806      0.379      0.658        340       5716\n",
      "author                    0.801      0.528      0.726        509       5885\n",
      "capital                   0.607      0.179      0.411         95       5471\n",
      "contains                  0.798      0.595      0.747       3904       9280\n",
      "film_performance          0.769      0.577      0.721        766       6142\n",
      "founders                  0.798      0.395      0.663        380       5756\n",
      "genre                     0.659      0.171      0.419        170       5546\n",
      "has_sibling               0.861      0.248      0.577        499       5875\n",
      "has_spouse                0.865      0.325      0.649        594       5970\n",
      "is_a                      0.645      0.219      0.465        497       5873\n",
      "nationality               0.560      0.156      0.369        301       5677\n",
      "parents                   0.859      0.529      0.764        312       5688\n",
      "place_of_birth            0.658      0.206      0.457        233       5609\n",
      "place_of_death            0.417      0.094      0.248        159       5535\n",
      "profession                0.612      0.166      0.398        247       5623\n",
      "worked_at                 0.713      0.236      0.507        242       5618\n",
      "------------------    ---------  ---------  ---------  ---------  ---------\n",
      "macro-average             0.714      0.313      0.549       9248      95264\n"
     ]
    }
   ],
   "source": [
    "baseline_results = rel_ext.experiment(\n",
    "    splits,\n",
    "    train_split='train',\n",
    "    test_split='dev',\n",
    "    featurizers=featurizers,\n",
    "    model_factory=model_factory,\n",
    "    verbose=True)\n"
   ]
  },
  {
   "cell_type": "markdown",
   "metadata": {},
   "source": [
    "Studying model weights might yield insights:"
   ]
  },
  {
   "cell_type": "code",
   "execution_count": 13,
   "metadata": {
    "scrolled": true
   },
   "outputs": [
    {
     "name": "stdout",
     "output_type": "stream",
     "text": [
      "Highest and lowest feature weights for relation adjoins:\n",
      "\n",
      "     2.477 Córdoba\n",
      "     2.469 Taluks\n",
      "     2.466 Valais\n",
      "     ..... .....\n",
      "    -1.380 Afghanistan\n",
      "    -1.592 America\n",
      "    -2.265 Earth\n",
      "\n",
      "Highest and lowest feature weights for relation author:\n",
      "\n",
      "     2.458 wrote\n",
      "     2.287 by\n",
      "     2.155 books\n",
      "     ..... .....\n",
      "    -1.998 superhero\n",
      "    -2.661 infamous\n",
      "    -6.993 dystopian\n",
      "\n",
      "Highest and lowest feature weights for relation capital:\n",
      "\n",
      "     3.356 capital\n",
      "     1.938 especially\n",
      "     1.887 km\n",
      "     ..... .....\n",
      "    -1.958 million\n",
      "    -1.960 pop\n",
      "    -1.998 Madras\n",
      "\n",
      "Highest and lowest feature weights for relation contains:\n",
      "\n",
      "     2.678 third-largest\n",
      "     2.484 bordered\n",
      "     2.186 districts\n",
      "     ..... .....\n",
      "    -2.654 Mile\n",
      "    -2.701 second-largest\n",
      "    -2.783 Philippine\n",
      "\n",
      "Highest and lowest feature weights for relation film_performance:\n",
      "\n",
      "     3.795 starring\n",
      "     3.751 co-starring\n",
      "     3.617 opposite\n",
      "     ..... .....\n",
      "    -1.784 commonly\n",
      "    -1.899 then\n",
      "    -2.450 She\n",
      "\n",
      "Highest and lowest feature weights for relation founders:\n",
      "\n",
      "     4.575 founder\n",
      "     3.821 founded\n",
      "     3.296 co-founder\n",
      "     ..... .....\n",
      "    -1.433 film\n",
      "    -1.450 novel\n",
      "    -1.927 band\n",
      "\n",
      "Highest and lowest feature weights for relation genre:\n",
      "\n",
      "     2.839 series\n",
      "     2.598 album\n",
      "     2.471 such\n",
      "     ..... .....\n",
      "    -1.519 and\n",
      "    -1.528 had\n",
      "    -2.020 at\n",
      "\n",
      "Highest and lowest feature weights for relation has_sibling:\n",
      "\n",
      "     5.657 brother\n",
      "     4.436 sister\n",
      "     3.006 Marlon\n",
      "     ..... .....\n",
      "    -1.338 Jacob\n",
      "    -1.405 friend\n",
      "    -1.789 Her\n",
      "\n",
      "Highest and lowest feature weights for relation has_spouse:\n",
      "\n",
      "     5.392 wife\n",
      "     4.253 widow\n",
      "     4.077 husband\n",
      "     ..... .....\n",
      "    -1.319 on\n",
      "    -1.349 Susan\n",
      "    -2.229 friend\n",
      "\n",
      "Highest and lowest feature weights for relation is_a:\n",
      "\n",
      "     3.268 family\n",
      "     2.504 \n",
      "     2.472 Genus\n",
      "     ..... .....\n",
      "    -1.627 while\n",
      "    -1.634 at\n",
      "    -1.812 nightshade\n",
      "\n",
      "Highest and lowest feature weights for relation nationality:\n",
      "\n",
      "     2.975 born\n",
      "     1.930 Prince\n",
      "     1.889 Pinky\n",
      "     ..... .....\n",
      "    -1.390 and\n",
      "    -1.427 or\n",
      "    -2.004 American\n",
      "\n",
      "Highest and lowest feature weights for relation parents:\n",
      "\n",
      "     4.747 son\n",
      "     4.521 daughter\n",
      "     4.357 father\n",
      "     ..... .....\n",
      "    -1.963 Jolie\n",
      "    -1.995 away\n",
      "    -2.366 passes\n",
      "\n",
      "Highest and lowest feature weights for relation place_of_birth:\n",
      "\n",
      "     4.030 born\n",
      "     2.955 mayor\n",
      "     2.780 birthplace\n",
      "     ..... .....\n",
      "    -1.423 or\n",
      "    -1.469 and\n",
      "    -1.666 American\n",
      "\n",
      "Highest and lowest feature weights for relation place_of_death:\n",
      "\n",
      "     2.798 died\n",
      "     1.864 Germany\n",
      "     1.825 prominent\n",
      "     ..... .....\n",
      "    -1.128 that\n",
      "    -1.160 as\n",
      "    -1.274 and\n",
      "\n",
      "Highest and lowest feature weights for relation profession:\n",
      "\n",
      "     2.992 \n",
      "     2.533 philosopher\n",
      "     2.401 American\n",
      "     ..... .....\n",
      "    -1.366 at\n",
      "    -1.517 Texas\n",
      "    -2.110 on\n",
      "\n",
      "Highest and lowest feature weights for relation worked_at:\n",
      "\n",
      "     3.276 founder\n",
      "     2.843 head\n",
      "     2.837 president\n",
      "     ..... .....\n",
      "    -1.160 Park\n",
      "    -1.161 art\n",
      "    -1.659 or\n",
      "\n"
     ]
    }
   ],
   "source": [
    "rel_ext.examine_model_weights(baseline_results)"
   ]
  },
  {
   "cell_type": "markdown",
   "metadata": {},
   "source": [
    "## Homework questions\n",
    "\n",
    "Please embed your homework responses in this notebook, and do not delete any cells from the notebook. (You are free to add as many cells as you like as part of your responses.)"
   ]
  },
  {
   "cell_type": "markdown",
   "metadata": {},
   "source": [
    "### Different model factory [1 point]\n",
    "\n",
    "The code in `rel_ext` makes it very easy to experiment with other classifier models: one need only redefine the `model_factory` argument. This question asks you to assess a [Support Vector Classifier](https://scikit-learn.org/stable/modules/generated/sklearn.svm.SVC.html).\n",
    "\n",
    "__To submit:__ A call to `rel_ext.experiment` training on the 'train' part of `splits` and assessing on its `dev` part, with `featurizers` as defined above in this notebook and the `model_factory` set to one based in an `SVC` with `kernel='linear'` and all other arguments left with default values."
   ]
  },
  {
   "cell_type": "code",
   "execution_count": 14,
   "metadata": {},
   "outputs": [
    {
     "name": "stdout",
     "output_type": "stream",
     "text": [
      "relation              precision     recall    f-score    support       size\n",
      "------------------    ---------  ---------  ---------  ---------  ---------\n",
      "adjoins                   0.776      0.347      0.622        340       5716\n",
      "author                    0.754      0.597      0.717        509       5885\n",
      "capital                   0.683      0.295      0.541         95       5471\n",
      "contains                  0.786      0.600      0.740       3904       9280\n",
      "film_performance          0.734      0.620      0.708        766       6142\n",
      "founders                  0.750      0.418      0.647        380       5756\n",
      "genre                     0.620      0.259      0.485        170       5546\n",
      "has_sibling               0.766      0.236      0.529        499       5875\n",
      "has_spouse                0.827      0.347      0.648        594       5970\n",
      "is_a                      0.600      0.260      0.475        497       5873\n",
      "nationality               0.549      0.186      0.395        301       5677\n",
      "parents                   0.790      0.603      0.744        312       5688\n",
      "place_of_birth            0.527      0.210      0.405        233       5609\n",
      "place_of_death            0.360      0.113      0.251        159       5535\n",
      "profession                0.535      0.247      0.434        247       5623\n",
      "worked_at                 0.653      0.318      0.539        242       5618\n",
      "------------------    ---------  ---------  ---------  ---------  ---------\n",
      "macro-average             0.669      0.354      0.555       9248      95264\n"
     ]
    }
   ],
   "source": [
    "from sklearn.svm import SVC\n",
    "\n",
    "svc_model_factory =  lambda: SVC(kernel='linear')\n",
    "\n",
    "svc_results = rel_ext.experiment(\n",
    "    splits,\n",
    "    train_split='train',\n",
    "    test_split='dev',\n",
    "    featurizers=featurizers,\n",
    "    model_factory=svc_model_factory,\n",
    "    verbose=True)"
   ]
  },
  {
   "cell_type": "code",
   "execution_count": 15,
   "metadata": {},
   "outputs": [],
   "source": [
    "#rel_ext.examine_model_weights(svc_results)"
   ]
  },
  {
   "cell_type": "markdown",
   "metadata": {},
   "source": [
    "### Directional unigram features [2 points]\n",
    "\n",
    "The current bag-of-words representation makes no distinction between \"forward\" and \"reverse\" examples. But, intuitively, there is big difference between _X and his son Y_ and _Y and his son X_. This question asks you to modify `simple_bag_of_words_featurizer` to capture these differences. \n",
    "\n",
    "__To submit:__\n",
    "\n",
    "1. A feature function `directional_bag_of_words_featurizer` that is just like `simple_bag_of_words_featurizer` except that it distinguishes \"forward\" and \"reverse\". To do this, you just need to mark each word feature for whether it is derived from a subject–object example or from an object–subject example. The precise nature of the mark you add for the two cases doesn't make a difference to the model.\n",
    "\n",
    "2. The macro-average F-score on the `dev` set that you obtain from running `rel_ext.experiment` with `directional_bag_of_words_featurizer` as the only featurizer. (Aside from this, use all the default values for `experiment` as exemplified above in this notebook.)\n",
    "\n",
    "3. `rel_ext.experiment` returns some of the core objects used in the experiment. How many feature names does the `vectorizer` have for the experiment run in the previous step? (Note: we're partly asking you to figure out how to get this value by using the sklearn documentation, so please don't ask how to do it on Piazza!)"
   ]
  },
  {
   "cell_type": "code",
   "execution_count": 12,
   "metadata": {},
   "outputs": [],
   "source": [
    "from sklearn.feature_extraction import DictVectorizer\n",
    "\n",
    "def directional_bag_of_words_featurizer(kbt, corpus, feature_counter):\n",
    "    for ex in corpus.get_examples_for_entities(kbt.sbj, kbt.obj):\n",
    "        for word in ex.middle.split(' '):\n",
    "            feature_counter[word + '_fwd'] += 1\n",
    "    for ex in corpus.get_examples_for_entities(kbt.obj, kbt.sbj):\n",
    "        for word in ex.middle.split(' '):\n",
    "            feature_counter[word + '_rev'] += 1\n",
    "    return feature_counter\n",
    "\n",
    "directional_featurizer = [directional_bag_of_words_featurizer]"
   ]
  },
  {
   "cell_type": "code",
   "execution_count": 17,
   "metadata": {},
   "outputs": [
    {
     "name": "stdout",
     "output_type": "stream",
     "text": [
      "relation              precision     recall    f-score    support       size\n",
      "------------------    ---------  ---------  ---------  ---------  ---------\n",
      "adjoins                   0.858      0.426      0.714        340       5716\n",
      "author                    0.877      0.572      0.792        509       5885\n",
      "capital                   0.733      0.232      0.512         95       5471\n",
      "contains                  0.832      0.637      0.784       3904       9280\n",
      "film_performance          0.842      0.654      0.796        766       6142\n",
      "founders                  0.845      0.416      0.700        380       5756\n",
      "genre                     0.652      0.265      0.504        170       5546\n",
      "has_sibling               0.882      0.255      0.591        499       5875\n",
      "has_spouse                0.867      0.352      0.671        594       5970\n",
      "is_a                      0.741      0.254      0.535        497       5873\n",
      "nationality               0.663      0.203      0.456        301       5677\n",
      "parents                   0.873      0.506      0.763        312       5688\n",
      "place_of_birth            0.712      0.223      0.495        233       5609\n",
      "place_of_death            0.639      0.145      0.380        159       5535\n",
      "profession                0.629      0.227      0.464        247       5623\n",
      "worked_at                 0.764      0.281      0.569        242       5618\n",
      "------------------    ---------  ---------  ---------  ---------  ---------\n",
      "macro-average             0.776      0.353      0.608       9248      95264\n"
     ]
    }
   ],
   "source": [
    "directional_results = rel_ext.experiment(\n",
    "    splits,\n",
    "    train_split='train',\n",
    "    test_split='dev',\n",
    "    featurizers=directional_featurizer,\n",
    "    model_factory=model_factory,\n",
    "    verbose=True)"
   ]
  },
  {
   "cell_type": "code",
   "execution_count": 18,
   "metadata": {},
   "outputs": [
    {
     "data": {
      "text/plain": [
       "40574"
      ]
     },
     "execution_count": 18,
     "metadata": {},
     "output_type": "execute_result"
    }
   ],
   "source": [
    "len(directional_results['vectorizer'].get_feature_names())"
   ]
  },
  {
   "cell_type": "markdown",
   "metadata": {},
   "source": [
    "### The part-of-speech tags of the \"middle\" words [2 points]\n",
    "\n",
    "Our corpus distribution contains part-of-speech (POS) tagged versions of the core text spans. Let's begin to explore whether there is information in these sequences, focusing on `middle_POS`.\n",
    "\n",
    "__To submit:__\n",
    "\n",
    "1. A feature function `middle_bigram_pos_tag_featurizer` that is just like `simple_bag_of_words_featurizer` except that it creates a feature for bigram POS sequences. For example, given \n",
    "\n",
    "  `The/DT dog/N napped/V`\n",
    "  \n",
    "   we obtain the list of bigram POS sequences\n",
    "  \n",
    "   `['<s> DT', 'DT N', 'N V', 'V </s>']`. \n",
    "   \n",
    "   Don't forget the start and end tags, to model those environments properly!\n",
    "\n",
    "2. The macro-average F-score on the `dev` set that you obtain from running `rel_ext.experiment` with `middle_bigram_pos_tag_featurizer` as the only featurizer. (Aside from this, use all the default values for `experiment` as exemplified above in this notebook.)\n",
    "\n",
    "Note: To parse `middle_POS`, one splits on whitespace to get the `word/TAG` pairs. Each of these pairs `s` can be parsed with `s.rsplit('/', 1)`."
   ]
  },
  {
   "cell_type": "code",
   "execution_count": 13,
   "metadata": {},
   "outputs": [],
   "source": [
    "def middle_bigram_pos_tag_featurizer(kbt, corpus, feature_counter):\n",
    "    for ex in corpus.get_examples_for_entities(kbt.sbj, kbt.obj):\n",
    "        middle_list = []\n",
    "        if len(ex.middle_POS) != 0:\n",
    "            middle_list = [pair.rsplit('/', 1)[1] for pair in ex.middle_POS.split(' ')]\n",
    "        tag_list = ['<s>'] + middle_list + ['</s>']\n",
    "        for i in range(len(tag_list) -1):\n",
    "            feature_counter[tag_list[i] + ' ' + tag_list[i+1]] += 1\n",
    "    for ex in corpus.get_examples_for_entities(kbt.obj, kbt.sbj):\n",
    "        middle_list = []\n",
    "        if len(ex.middle_POS) != 0:\n",
    "            middle_list = [pair.rsplit('/', 1)[1] for pair in ex.middle_POS.split(' ')]\n",
    "        tag_list = ['<s>'] + middle_list + ['</s>']\n",
    "        for i in range(len(tag_list) -1):\n",
    "            feature_counter[tag_list[i] + ' ' + tag_list[i+1]] += 1\n",
    "    return feature_counter\n",
    "\n",
    "middle_pos_featurizer = [middle_bigram_pos_tag_featurizer]"
   ]
  },
  {
   "cell_type": "code",
   "execution_count": 14,
   "metadata": {},
   "outputs": [],
   "source": [
    "# # for test\n",
    "# corpus.get_examples_for_entities(kb.kb_triples[0].sbj, kb.kb_triples[0].obj)[0].middle\n",
    "\n",
    "# from collections import Counter\n",
    "# middle_bigram_pos_tag_featurizer(kb.kb_triples[0], corpus, Counter())"
   ]
  },
  {
   "cell_type": "code",
   "execution_count": 21,
   "metadata": {},
   "outputs": [
    {
     "name": "stdout",
     "output_type": "stream",
     "text": [
      "relation              precision     recall    f-score    support       size\n",
      "------------------    ---------  ---------  ---------  ---------  ---------\n",
      "adjoins                   0.859      0.341      0.659        340       5716\n",
      "author                    0.741      0.326      0.591        509       5885\n",
      "capital                   0.483      0.147      0.332         95       5471\n",
      "contains                  0.758      0.595      0.719       3904       9280\n",
      "film_performance          0.728      0.446      0.646        766       6142\n",
      "founders                  0.611      0.174      0.406        380       5756\n",
      "genre                     0.569      0.171      0.388        170       5546\n",
      "has_sibling               0.692      0.162      0.419        499       5875\n",
      "has_spouse                0.800      0.269      0.574        594       5970\n",
      "is_a                      0.558      0.175      0.388        497       5873\n",
      "nationality               0.370      0.066      0.193        301       5677\n",
      "parents                   0.605      0.240      0.464        312       5688\n",
      "place_of_birth            0.592      0.180      0.406        233       5609\n",
      "place_of_death            0.444      0.075      0.225        159       5535\n",
      "profession                0.661      0.158      0.404        247       5623\n",
      "worked_at                 0.463      0.128      0.304        242       5618\n",
      "------------------    ---------  ---------  ---------  ---------  ---------\n",
      "macro-average             0.621      0.228      0.445       9248      95264\n"
     ]
    }
   ],
   "source": [
    "middle_pos_results = rel_ext.experiment(\n",
    "    splits,\n",
    "    train_split='train',\n",
    "    test_split='dev',\n",
    "    featurizers=middle_pos_featurizer,\n",
    "    model_factory=model_factory,\n",
    "    verbose=True)\n"
   ]
  },
  {
   "cell_type": "markdown",
   "metadata": {},
   "source": [
    "### Your original system [4 points]\n",
    "\n",
    "There are many options, and this could easily grow into a project. Here are a few ideas:\n",
    "\n",
    "- Try out different classifier models, from `sklearn` and elsewhere.\n",
    "- Add a feature that indicates the length of the middle.\n",
    "- Augment the bag-of-words representation to include bigrams or trigrams (not just unigrams).\n",
    "- Introduce features based on the entity mentions themselves. <!-- \\[SPOILER: it helps a lot, maybe 4% in F-score. And combines nicely with the directional features.\\] -->\n",
    "- Experiment with features based on the context outside (rather than between) the two entity mentions — that is, the words before the first mention, or after the second.\n",
    "- Try adding features which capture syntactic information, such as the dependency-path features used by Mintz et al. 2009. The [NLTK](https://www.nltk.org/) toolkit contains a variety of [parsing algorithms](http://www.nltk.org/api/nltk.parse.html) that may help.\n",
    "- The bag-of-words representation does not permit generalization across word categories such as names of people, places, or companies. Can we do better using word embeddings such as [GloVe](https://nlp.stanford.edu/projects/glove/)?\n",
    "- Consider adding features based on WordNet synsets. Here's a little code to get you started with that:\n",
    "  ```\n",
    "  from nltk.corpus import wordnet as wn\n",
    "  dog_compatible_synsets = wn.synsets('dog', pos='n')\n",
    " ```"
   ]
  },
  {
   "cell_type": "code",
   "execution_count": 15,
   "metadata": {},
   "outputs": [],
   "source": [
    "from nltk.parse import RecursiveDescentParser\n",
    "from nltk import word_tokenize\n",
    "from nltk import pos_tag\n",
    "\n",
    "# text = nltk.word_tokenize(\"And now for something completely different\")\n",
    "# for i in nltk.pos_tag(text):\n",
    "#     print([i[1]])\n",
    "\n",
    "def semantic_parser(kbt, corpus, feature_counter):\n",
    "    for ex in corpus.get_examples_for_entities(kbt.sbj, kbt.obj):\n",
    "        text = word_tokenize(ex.mention_1 + ' ' + ex.middle + ' ' + ex.mention_2)\n",
    "        feature_counter[pos_tag(text)[0][1] + ' ' + pos_tag(text)[1][1] + '_fwd1'] += 1\n",
    "        feature_counter[pos_tag(text)[-2][1] + ' ' + pos_tag(text)[-1][1] + '_fwd2'] += 1\n",
    "        prev_text = word_tokenize(ex.left + ' ' + ex.mention_1)\n",
    "        if len(prev_text) >=2:\n",
    "            feature_counter[pos_tag(prev_text)[-2][1] + ' ' + pos_tag(prev_text)[-1][1] + '_fwd3'] += 1\n",
    "    for ex in corpus.get_examples_for_entities(kbt.obj, kbt.sbj):\n",
    "        text = word_tokenize(ex.mention_1 + ' ' + ex.middle + ' ' + ex.mention_2)\n",
    "        feature_counter[pos_tag(text)[0][1] + ' ' + pos_tag(text)[1][1] + '_rev1'] += 1\n",
    "        feature_counter[pos_tag(text)[-2][1] + ' ' + pos_tag(text)[-1][1] + '_rev2'] += 1\n",
    "        post_text = word_tokenize(ex.mention_2 + ' ' + ex.right)\n",
    "        if len(post_text) >= 2:\n",
    "            feature_counter[pos_tag(post_text)[0][1] + ' ' + pos_tag(post_text)[1][1] + '_rev3'] += 1\n",
    "    return feature_counter\n",
    "\n",
    "def length_featurizer(kbt, corpus, feature_counter):\n",
    "    for ex in corpus.get_examples_for_entities(kbt.sbj, kbt.obj):\n",
    "        feature_counter[str(len(ex.middle_POS))] += 1\n",
    "    for ex in corpus.get_examples_for_entities(kbt.obj, kbt.sbj):\n",
    "        feature_counter[str(len(ex.middle_POS))] += 1\n",
    "    return feature_counter\n",
    "\n",
    "def bigram_trigram_words_featurizer(kbt, corpus, feature_counter):\n",
    "    for ex in corpus.get_examples_for_entities(kbt.sbj, kbt.obj):\n",
    "        word_list = ex.middle.split(' ')\n",
    "        for i in range(len(word_list) - 1):\n",
    "            feature_counter[word_list[i] + ' ' + word_list[i+1] + '_fwd'] += 1\n",
    "            if i < len(word_list) - 2: \n",
    "                feature_counter[word_list[i] + ' ' + word_list[i+1] + ' ' + word_list[i+2] + '_fwd'] += 1\n",
    "    for ex in corpus.get_examples_for_entities(kbt.obj, kbt.sbj):\n",
    "        word_list = ex.middle.split(' ')\n",
    "        for i in range(len(word_list) - 1):\n",
    "            feature_counter[word_list[i] + ' ' + word_list[i+1] + '_rev'] += 1\n",
    "            if i < len(word_list) - 2: \n",
    "                feature_counter[word_list[i] + ' ' + word_list[i+1] + ' ' + word_list[i+2] + '_rev'] += 1\n",
    "    return feature_counter\n",
    "\n",
    "original_featurizer = [simple_bag_of_words_featurizer, directional_bag_of_words_featurizer, \n",
    "                         bigram_trigram_words_featurizer, length_featurizer, semantic_parser]"
   ]
  },
  {
   "cell_type": "code",
   "execution_count": 16,
   "metadata": {},
   "outputs": [],
   "source": [
    "# import sklearn.linear_model as LinearModel\n",
    "# sgd_model_factory =  lambda: LinearModel.SGDClassifier(penalty = 'l2', max_iter = 100)\n",
    "\n",
    "lr_model_factory = lambda: LogisticRegression(fit_intercept=True, solver='liblinear', max_iter = 500)"
   ]
  },
  {
   "cell_type": "code",
   "execution_count": 25,
   "metadata": {},
   "outputs": [
    {
     "name": "stdout",
     "output_type": "stream",
     "text": [
      "relation              precision     recall    f-score    support       size\n",
      "------------------    ---------  ---------  ---------  ---------  ---------\n",
      "adjoins                   0.847      0.374      0.676        340       5716\n",
      "author                    0.870      0.672      0.822        509       5885\n",
      "capital                   0.756      0.326      0.598         95       5471\n",
      "contains                  0.843      0.709      0.812       3904       9280\n",
      "film_performance          0.878      0.725      0.842        766       6142\n",
      "founders                  0.824      0.479      0.720        380       5756\n",
      "genre                     0.798      0.559      0.735        170       5546\n",
      "has_sibling               0.856      0.309      0.632        499       5875\n",
      "has_spouse                0.890      0.380      0.702        594       5970\n",
      "is_a                      0.773      0.481      0.690        497       5873\n",
      "nationality               0.677      0.349      0.570        301       5677\n",
      "parents                   0.878      0.532      0.777        312       5688\n",
      "place_of_birth            0.825      0.343      0.644        233       5609\n",
      "place_of_death            0.635      0.208      0.450        159       5535\n",
      "profession                0.834      0.490      0.732        247       5623\n",
      "worked_at                 0.808      0.347      0.638        242       5618\n",
      "------------------    ---------  ---------  ---------  ---------  ---------\n",
      "macro-average             0.812      0.455      0.690       9248      95264\n"
     ]
    }
   ],
   "source": [
    "original_results = rel_ext.experiment(\n",
    "    splits,\n",
    "    train_split='train',\n",
    "    test_split='dev',\n",
    "    featurizers=original_featurizer,\n",
    "    model_factory=lr_model_factory,\n",
    "    verbose=True)\n",
    "#macro-average  f-score: 0.690 "
   ]
  },
  {
   "cell_type": "code",
   "execution_count": 26,
   "metadata": {},
   "outputs": [
    {
     "name": "stdout",
     "output_type": "stream",
     "text": [
      "Highest and lowest feature weights for relation adjoins:\n",
      "\n",
      "     1.516 JJR NNP_fwd1\n",
      "     1.413 combined\n",
      "     1.399 Valais\n",
      "     ..... .....\n",
      "    -0.918 NN ,_rev1\n",
      "    -0.928 63\n",
      "    -0.991 DT NNP_fwd1\n",
      "\n",
      "Highest and lowest feature weights for relation author:\n",
      "\n",
      "     2.604 by_fwd\n",
      "     1.908 's_rev\n",
      "     1.651 ) ._rev\n",
      "     ..... .....\n",
      "    -1.795 NN NN_fwd1\n",
      "    -2.033 by_rev\n",
      "    -2.052 NNP NNS_rev2\n",
      "\n",
      "Highest and lowest feature weights for relation capital:\n",
      "\n",
      "     2.407 capital\n",
      "     1.738 NNP )_rev3\n",
      "     1.433 JJ NNP_rev3\n",
      "     ..... .....\n",
      "    -1.246 NNP NNP_fwd2\n",
      "    -1.412 NNP VBD_rev3\n",
      "    -1.436 NNP WRB_rev3\n",
      "\n",
      "Highest and lowest feature weights for relation contains:\n",
      "\n",
      "     1.954 , with_fwd\n",
      "     1.764 DT NNPS_fwd3\n",
      "     1.648 ( NNP_rev2\n",
      "     ..... .....\n",
      "    -1.882 DT NN_rev2\n",
      "    -1.923 &\n",
      "    -2.050 NN NN_fwd1\n",
      "\n",
      "Highest and lowest feature weights for relation film_performance:\n",
      "\n",
      "     2.669 starring_rev\n",
      "     2.376 opposite_rev\n",
      "     1.942 co-starring_rev\n",
      "     ..... .....\n",
      "    -1.605 NN NN_rev1\n",
      "    -1.617 NNP NNP_rev1\n",
      "    -2.138 's film_fwd\n",
      "\n",
      "Highest and lowest feature weights for relation founders:\n",
      "\n",
      "     2.630 founder\n",
      "     2.493 NNP NNPS_fwd3\n",
      "     2.316 founded\n",
      "     ..... .....\n",
      "    -1.297 NN NN_rev3\n",
      "    -1.547 3\n",
      "    -1.629 DT NN_rev2\n",
      "\n",
      "Highest and lowest feature weights for relation genre:\n",
      "\n",
      "     2.564 NN NN_rev1\n",
      "     2.497 NNS POS_rev1\n",
      "     2.497 JJ NN_rev1\n",
      "     ..... .....\n",
      "    -2.326 NNP ,_rev1\n",
      "    -2.911 NNP NNP_rev1\n",
      "    -3.042 NNP NNP_fwd2\n",
      "\n",
      "Highest and lowest feature weights for relation has_sibling:\n",
      "\n",
      "     3.508 brother\n",
      "     2.893 sister\n",
      "     1.820 brother_rev\n",
      "     ..... .....\n",
      "    -1.343 DT NNP_fwd1\n",
      "    -1.603 and brother_fwd\n",
      "    -1.635 , and brother_fwd\n",
      "\n",
      "Highest and lowest feature weights for relation has_spouse:\n",
      "\n",
      "     3.429 wife\n",
      "     2.860 married\n",
      "     2.740 husband\n",
      "     ..... .....\n",
      "    -1.178 DT NNP_fwd1\n",
      "    -1.358 5\n",
      "    -1.395 CC NN_fwd2\n",
      "\n",
      "Highest and lowest feature weights for relation is_a:\n",
      "\n",
      "     2.758 NNS )_rev3\n",
      "     2.683 CC NN_fwd2\n",
      "     2.443 family\n",
      "     ..... .....\n",
      "    -2.043 DT NNP_rev1\n",
      "    -3.342 NNP NNP_rev1\n",
      "    -3.351 NNP NNP_fwd2\n",
      "\n",
      "Highest and lowest feature weights for relation nationality:\n",
      "\n",
      "     1.720 in Southern_fwd\n",
      "     1.656 NNP JJ_fwd3\n",
      "     1.638 NNP ._rev1\n",
      "     ..... .....\n",
      "    -1.692 NN IN_rev1\n",
      "    -1.723 6\n",
      "    -1.847 JJ NN_fwd3\n",
      "\n",
      "Highest and lowest feature weights for relation parents:\n",
      "\n",
      "     2.642 father\n",
      "     2.618 son\n",
      "     2.295 daughter\n",
      "     ..... .....\n",
      "    -1.108 DT NNP_fwd3\n",
      "    -1.174 CC NNP_fwd2\n",
      "    -1.265 NN NN_rev2\n",
      "\n",
      "Highest and lowest feature weights for relation place_of_birth:\n",
      "\n",
      "     1.984 born\n",
      "     1.614 mayor\n",
      "     1.567 born_fwd\n",
      "     ..... .....\n",
      "    -1.559 DT NN_fwd3\n",
      "    -1.713 JJ NN_fwd3\n",
      "    -1.784 3\n",
      "\n",
      "Highest and lowest feature weights for relation place_of_death:\n",
      "\n",
      "     1.484 died_fwd\n",
      "     1.401 died\n",
      "     1.386 where_rev\n",
      "     ..... .....\n",
      "    -1.417 6\n",
      "    -1.424 NNP NNP_rev1\n",
      "    -2.141 3\n",
      "\n",
      "Highest and lowest feature weights for relation profession:\n",
      "\n",
      "     3.081 CC NN_fwd2\n",
      "     2.519 NN CC_rev1\n",
      "     2.494 NN ,_rev1\n",
      "     ..... .....\n",
      "    -2.159 NNP ,_rev1\n",
      "    -3.227 NNP NNP_rev1\n",
      "    -3.489 NNP NNP_fwd2\n",
      "\n",
      "Highest and lowest feature weights for relation worked_at:\n",
      "\n",
      "     1.853 at_fwd\n",
      "     1.726 founder\n",
      "     1.653 , a_fwd\n",
      "     ..... .....\n",
      "    -1.381 or\n",
      "    -1.458 3\n",
      "    -1.521 at_rev\n",
      "\n"
     ]
    }
   ],
   "source": [
    "rel_ext.examine_model_weights(original_results)"
   ]
  },
  {
   "cell_type": "markdown",
   "metadata": {},
   "source": [
    "## Bake-off [1 point]\n",
    "\n",
    "For the bake-off, we will release a test set right after class on April 29. The announcement will go out on Piazza. You will evaluate your custom model from the previous question on these new datasets using the function `rel_ext.bake_off_experiment`. Rules:\n",
    "\n",
    "1. Only one evaluation is permitted.\n",
    "1. No additional system tuning is permitted once the bake-off has started.\n",
    "\n",
    "To enter the bake-off, upload this notebook on Canvas:\n",
    "\n",
    "https://canvas.stanford.edu/courses/99711/assignments/187248\n",
    "\n",
    "The cells below this one constitute your bake-off entry.\n",
    "\n",
    "People who enter will receive the additional homework point, and people whose systems achieve the top score will receive an additional 0.5 points. We will test the top-performing systems ourselves, and only systems for which we can reproduce the reported results will win the extra 0.5 points.\n",
    "\n",
    "The bake-off will close at 4:30 pm on May 1. Late entries will be accepted, but they cannot earn the extra 0.5 points. Similarly, you cannot win the bake-off unless your homework is submitted on time."
   ]
  },
  {
   "cell_type": "code",
   "execution_count": 18,
   "metadata": {},
   "outputs": [
    {
     "name": "stdout",
     "output_type": "stream",
     "text": [
      "relation              precision     recall    f-score    support       size\n",
      "------------------    ---------  ---------  ---------  ---------  ---------\n",
      "adjoins                   0.916      0.470      0.770        438       7122\n",
      "author                    0.847      0.679      0.807        645       7329\n",
      "capital                   0.690      0.348      0.576        115       6799\n",
      "contains                  0.826      0.808      0.823       3808      10492\n",
      "film_performance          0.846      0.721      0.817       1011       7695\n",
      "founders                  0.763      0.471      0.679        444       7128\n",
      "genre                     0.802      0.495      0.713        188       6872\n",
      "has_sibling               0.898      0.283      0.626        717       7401\n",
      "has_spouse                0.891      0.377      0.700        780       7464\n",
      "is_a                      0.742      0.480      0.669        611       7295\n",
      "nationality               0.657      0.360      0.564        383       7067\n",
      "parents                   0.919      0.560      0.815        427       7111\n",
      "place_of_birth            0.735      0.381      0.620        291       6975\n",
      "place_of_death            0.586      0.255      0.465        200       6884\n",
      "profession                0.831      0.506      0.736        310       6994\n",
      "worked_at                 0.778      0.390      0.649        323       7007\n",
      "------------------    ---------  ---------  ---------  ---------  ---------\n",
      "macro-average             0.795      0.474      0.689      10691     117635\n"
     ]
    }
   ],
   "source": [
    "# Enter your bake-off assessment code in this cell. \n",
    "# Please do not remove this comment.\n",
    "bakeoff_results = rel_ext.experiment(\n",
    "    splits,\n",
    "    train_split='train',\n",
    "    test_split='dev',\n",
    "    featurizers=original_featurizer,\n",
    "    model_factory=lr_model_factory,\n",
    "    verbose=False) # We don't care about this evaluation, so skip its summary.\n",
    "\n",
    "rel_ext_data_home_test = os.path.join(rel_ext_data_home, 'bakeoff3-rel_ext-test-data')\n",
    "rel_ext.bake_off_experiment(bakeoff_results, rel_ext_data_home_test)"
   ]
  },
  {
   "cell_type": "code",
   "execution_count": 19,
   "metadata": {},
   "outputs": [
    {
     "data": {
      "text/plain": [
       "0.689"
      ]
     },
     "execution_count": 19,
     "metadata": {},
     "output_type": "execute_result"
    }
   ],
   "source": [
    "# On an otherwise blank line in this cell, please enter\n",
    "# your macro-average f-score (an F_0.5 score) as reported \n",
    "# by the code above. Please enter only a number between \n",
    "# 0 and 1 inclusive. Please do not remove this comment.\n",
    "0.689"
   ]
  }
 ],
 "metadata": {
  "kernelspec": {
   "display_name": "Python 3",
   "language": "python",
   "name": "python3"
  },
  "language_info": {
   "codemirror_mode": {
    "name": "ipython",
    "version": 3
   },
   "file_extension": ".py",
   "mimetype": "text/x-python",
   "name": "python",
   "nbconvert_exporter": "python",
   "pygments_lexer": "ipython3",
   "version": "3.7.1"
  },
  "widgets": {
   "state": {},
   "version": "1.1.2"
  }
 },
 "nbformat": 4,
 "nbformat_minor": 2
}
