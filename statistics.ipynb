{
 "cells": [
  {
   "cell_type": "code",
   "execution_count": 24,
   "metadata": {},
   "outputs": [
    {
     "name": "stdout",
     "output_type": "stream",
     "text": [
      "0.7918750452005143\n"
     ]
    }
   ],
   "source": [
    "from scipy import stats\n",
    "from matplotlib import pyplot\n",
    "import numpy as np\n",
    "data_mg = [0.8012009087958456, 0.814223608281097, 0.7955796065717179, 0.8026368787089497, 0.7908128415300546, 0.7711543839984623, 0.7879394933362418, 0.7664231894261311, 0.7962550380220783, 0.7925245033345651]\n",
    "print(np.mean(data_mg))"
   ]
  },
  {
   "cell_type": "code",
   "execution_count": 25,
   "metadata": {},
   "outputs": [
    {
     "name": "stdout",
     "output_type": "stream",
     "text": [
      "0.8216145332706464\n",
      "Ttest_indResult(statistic=-4.770217546888722, pvalue=0.00015303483275327354)\n"
     ]
    }
   ],
   "source": [
    "data_sg = [0.8321396140284856, 0.8301358912869703, 0.8311364478766845, 0.8200772522404027, 0.8306307161488427, 0.7979060913705585, 0.8266626238124116, 0.8006583741103088, 0.8116103043221746, 0.835188017509625]\n",
    "print(np.mean(data_sg))\n",
    "print(stats.ttest_ind(data_mg, data_sg))"
   ]
  },
  {
   "cell_type": "code",
   "execution_count": 34,
   "metadata": {},
   "outputs": [],
   "source": [
    "def mean_confidence_interval(data, confidence=0.9):\n",
    "    a = 1.0 * np.array(data)\n",
    "    n = len(a)\n",
    "    m, se = np.mean(a), stats.sem(a)\n",
    "    h = se * stats.t.ppf((1 + confidence) / 2., n-1)\n",
    "    return m, m-h, m+h\n",
    "\n",
    "def plot_with_err(prop_1, prop_ci_1, prop_2, prop_ci_2, plot_title, label_1, label_2):\n",
    "    top_x = [0]\n",
    "    bot_x = [1]\n",
    "    # print(prop_1, prop_2, prop_ci_1)\n",
    "    prop_ci_1 = [[prop_1 - prop_ci_1[0]], [prop_ci_1[1] - prop_1]]\n",
    "    # print(prop_1, top_x)\n",
    "    pyplot.errorbar(top_x[0], [prop_1], prop_ci_1, color='b', marker='s', label=label_1)\n",
    "    \n",
    "    prop_ci_2 = [[prop_2 - prop_ci_2[0]], [prop_ci_2[1] - prop_2]]\n",
    "    pyplot.errorbar(bot_x[0], [prop_2], prop_ci_2, color='r', marker='s', label=label_2)\n",
    "    \n",
    "    ax = pyplot.gca()\n",
    "    ax.set_facecolor('#FFFFFF')\n",
    "    pyplot.xticks([-0.5, 0, 0.5, 1, 1.5])\n",
    "    pyplot.ylim([0.775,0.85])\n",
    "    # print(prop_ci_1[0], top_x)\n",
    "    \n",
    "    pyplot.legend()\n",
    "    pyplot.title(plot_title)\n",
    "    pyplot.show()"
   ]
  },
  {
   "cell_type": "code",
   "execution_count": 35,
   "metadata": {},
   "outputs": [
    {
     "data": {
      "image/png": "[encoded data removed]",
      "text/plain": [
       "<Figure size 432x288 with 1 Axes>"
      ]
     },
     "metadata": {
      "needs_background": "light"
     },
     "output_type": "display_data"
    }
   ],
   "source": [
    "m0, l0, h0 = mean_confidence_interval(data_mg)\n",
    "m1, l1, h1 = mean_confidence_interval(data_sg)\n",
    "\n",
    "plot_with_err(m0, (l0, h0), m1, (l1, h1), \"\", \"MG\", \"SG\")"
   ]
  },
  {
   "cell_type": "code",
   "execution_count": null,
   "metadata": {},
   "outputs": [],
   "source": []
  }
 ],
 "metadata": {
  "kernelspec": {
   "display_name": "Python 3",
   "language": "python",
   "name": "python3"
  },
  "language_info": {
   "codemirror_mode": {
    "name": "ipython",
    "version": 3
   },
   "file_extension": ".py",
   "mimetype": "text/x-python",
   "name": "python",
   "nbconvert_exporter": "python",
   "pygments_lexer": "ipython3",
   "version": "3.7.1"
  }
 },
 "nbformat": 4,
 "nbformat_minor": 2
}
