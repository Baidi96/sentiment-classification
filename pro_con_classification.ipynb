{
 "cells": [
  {
   "cell_type": "code",
   "execution_count": 32,
   "metadata": {},
   "outputs": [],
   "source": [
    "#%tb\n",
    "import os\n",
    "import json\n",
    "#import argparse\n",
    "import numpy as np\n",
    "from utils.dataLoaders import load_glassdoor\n",
    "from sklearn.feature_extraction.text import CountVectorizer\n",
    "from sklearn.linear_model import SGDClassifier\n",
    "from sklearn.metrics import classification_report\n",
    "#from configs import system_configs\n",
    "from imblearn.over_sampling import RandomOverSampler\n",
    "import torch.nn as nn\n",
    "from collections import Counter\n",
    "from utils.dataLoaders import clean_str\n",
    "from source.torch_shallow_neural_classifier import TorchShallowNeuralClassifier\n",
    "from sklearn.ensemble import RandomForestClassifier\n",
    "from sklearn.metrics import f1_score\n",
    "import source.utils"
   ]
  },
  {
   "cell_type": "code",
   "execution_count": 40,
   "metadata": {},
   "outputs": [],
   "source": [
    "#configs of the experiment\n",
    "ID            = None#= system_configs.ID #name of experiment\n",
    "dataset    = 'amazon'   #= system_configs.dataset #dataset(s) we are using example: \"amazon_microsoft\" means using both amazon and microsoft data\n",
    "data_source  = 'glassdoor' #= system_configs.data_source #data source to run, only glassdoor for now\n",
    "batch_size   = 256 #= system_configs.batch_size #batch size\n",
    "learning_rate = 0.001#= system_configs.learning_rate\n",
    "mode        = 'train'   #= system_configs.mode #train val test\n",
    "classifier   = 'cnn' #= system_configs.classifier #type of classifier\n",
    "word_embedding = 'GloVe'#= system_configs.word_embedding#word embedding: GloVe/Bert\n",
    "rating_mode = 2#= system_configs.rating_mode #binary, tenary or 5 star rating\n",
    "rebalance  = False#= system_configs.rebalance\n",
    "\n",
    "GLOVE_HOME = os.path.join('data', 'glove.6B')\n",
    "glove_lookup = source.utils.glove2dict(os.path.join(GLOVE_HOME, 'glove.6B.50d.txt'))"
   ]
  },
  {
   "cell_type": "code",
   "execution_count": 44,
   "metadata": {},
   "outputs": [],
   "source": [
    "def get_revirew_embed(reviews, lookup, func=np.sum):\n",
    "    result = []\n",
    "    for r in reviews:\n",
    "        embed = np.array([lookup[w] for w in r if w in lookup]) \n",
    "        if len(embed) == 0:\n",
    "            dim = len(next(iter(lookup.values())))\n",
    "            e = np.zeros(dim)\n",
    "        else:\n",
    "            e = func(embed,  axis = 0)\n",
    "        result.append(e)\n",
    "    return np.array(result)\n",
    "    \n",
    "def fit_nn_classifier(X, y):   \n",
    "    basemod = TorchShallowNeuralClassifier()\n",
    "    cv = 3\n",
    "    param_grid = {'hidden_dim': [50, 100, 200, 300], 'hidden_activation': [nn.Tanh(), nn.ReLU()]}\n",
    "    best_mod = source.utils.fit_classifier_with_crossvalidation(X, y, basemod, cv, param_grid)\n",
    "    return best_mod"
   ]
  },
  {
   "cell_type": "code",
   "execution_count": 45,
   "metadata": {},
   "outputs": [
    {
     "name": "stderr",
     "output_type": "stream",
     "text": [
      "Finished epoch 100 of 100; error is 11.697825253009796"
     ]
    },
    {
     "name": "stdout",
     "output_type": "stream",
     "text": [
      "Best params: {'hidden_activation': ReLU(), 'hidden_dim': 200}\n",
      "Best score: 0.651\n"
     ]
    }
   ],
   "source": [
    "#pros cons\n",
    "X, y = load_glassdoor(\"all\",\"train\", 2, \"pros_cons\", labelType=\"pros_cons\")\n",
    "test_X, test_y = load_glassdoor(\"collections\", \"train\", 2, \"pros_cons\", labelType = \"pros_cons\", restrict = 20000)\n",
    "embed_X = get_revirew_embed(X, glove_lookup, np.mean)\n",
    "embed_test_X = get_revirew_embed(test_X, glove_lookup, np.mean)\n",
    "\n",
    "nn_model = fit_nn_classifier(embed_X, y)\n",
    "test_preds = nn_model.predict(embed_test_X)"
   ]
  },
  {
   "cell_type": "code",
   "execution_count": 46,
   "metadata": {},
   "outputs": [
    {
     "name": "stdout",
     "output_type": "stream",
     "text": [
      "macro-f1: 0.6712825640411333\n",
      "              precision    recall  f1-score   support\n",
      "\n",
      "           0       0.66      0.72      0.69     10040\n",
      "           1       0.69      0.62      0.65      9960\n",
      "\n",
      "    accuracy                           0.67     20000\n",
      "   macro avg       0.67      0.67      0.67     20000\n",
      "weighted avg       0.67      0.67      0.67     20000\n",
      "\n"
     ]
    }
   ],
   "source": [
    "print(\"macro-f1:\",f1_score(test_y, test_preds, average='macro'))\n",
    "print(classification_report(test_y, test_preds))"
   ]
  },
  {
   "cell_type": "code",
   "execution_count": 55,
   "metadata": {},
   "outputs": [],
   "source": [
    "#sa\n",
    "X, y = load_glassdoor(\"all\",\"train\", 2, \"pros_cons\", labelType=\"sa\")\n",
    "test_X, test_y = load_glassdoor(\"collections\", \"train\", 2, \"pros_cons\", labelType = \"sa\", restrict = 20000)\n",
    "embed_X = get_revirew_embed(X, glove_lookup, np.mean)\n",
    "embed_test_X = get_revirew_embed(test_X, glove_lookup, np.mean)\n",
    "\n",
    "nn_sa = TorchShallowNeuralClassifier()\n",
    "nn_sa.fit(embed_X, y)\n",
    "test_preds_sa = nn_sa.predict(embed_test_X)\n",
    "print(classification_report(test_y, test_preds_sa))"
   ]
  },
  {
   "cell_type": "code",
   "execution_count": null,
   "metadata": {},
   "outputs": [],
   "source": []
  }
 ],
 "metadata": {
  "kernelspec": {
   "display_name": "Python 3",
   "language": "python",
   "name": "python3"
  },
  "language_info": {
   "codemirror_mode": {
    "name": "ipython",
    "version": 3
   },
   "file_extension": ".py",
   "mimetype": "text/x-python",
   "name": "python",
   "nbconvert_exporter": "python",
   "pygments_lexer": "ipython3",
   "version": "3.7.1"
  }
 },
 "nbformat": 4,
 "nbformat_minor": 2
}
