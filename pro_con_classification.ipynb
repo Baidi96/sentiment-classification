{
 "cells": [
  {
   "cell_type": "code",
   "execution_count": 15,
   "metadata": {},
   "outputs": [],
   "source": [
    "#%tb\n",
    "import os\n",
    "import json\n",
    "#import argparse\n",
    "import numpy as np\n",
    "from utils.dataLoaders import load_glassdoor\n",
    "from sklearn.feature_extraction.text import CountVectorizer\n",
    "from sklearn.linear_model import SGDClassifier\n",
    "from sklearn.metrics import classification_report\n",
    "#from configs import system_configs\n",
    "from imblearn.over_sampling import RandomOverSampler\n",
    "from collections import Counter\n",
    "from utils.dataLoaders import clean_str\n",
    "from source.torch_shallow_neural_classifier import TorchShallowNeuralClassifier\n",
    "from sklearn.ensemble import RandomForestClassifier\n",
    "import source.utils"
   ]
  },
  {
   "cell_type": "code",
   "execution_count": 3,
   "metadata": {},
   "outputs": [],
   "source": [
    "#configs of the experiment\n",
    "ID            = None#= system_configs.ID #name of experiment\n",
    "dataset    = 'amazon'   #= system_configs.dataset #dataset(s) we are using example: \"amazon_microsoft\" means using both amazon and microsoft data\n",
    "data_source  = 'glassdoor' #= system_configs.data_source #data source to run, only glassdoor for now\n",
    "batch_size   = 256 #= system_configs.batch_size #batch size\n",
    "learning_rate = 0.001#= system_configs.learning_rate\n",
    "mode        = 'train'   #= system_configs.mode #train val test\n",
    "classifier   = 'cnn' #= system_configs.classifier #type of classifier\n",
    "word_embedding = 'GloVe'#= system_configs.word_embedding#word embedding: GloVe/Bert\n",
    "rating_mode = 2#= system_configs.rating_mode #binary, tenary or 5 star rating\n",
    "rebalance  = False#= system_configs.rebalance\n",
    "\n",
    "GLOVE_HOME = os.path.join('data', 'glove.6B')\n",
    "glove_lookup = source.utils.glove2dict(os.path.join(GLOVE_HOME, 'glove.6B.300d.txt'))"
   ]
  },
  {
   "cell_type": "code",
   "execution_count": 22,
   "metadata": {},
   "outputs": [],
   "source": [
    "def get_revirew_embed(reviews, lookup, func=np.sum):\n",
    "    result = []\n",
    "    for r in reviews:\n",
    "        embed = np.array([lookup[w] for w in r if w in lookup]) \n",
    "        if len(embed) == 0:\n",
    "            dim = len(next(iter(lookup.values())))\n",
    "            e = np.zeros(dim)\n",
    "        else:\n",
    "            e = func(embed,  axis = 0)\n",
    "        result.append(e)\n",
    "    return np.array(result)\n",
    "\n",
    "def torch_pros_cons():\n",
    "    X, y = load_glassdoor(\"all\",\"train\", 2, \"pros_cons\", labelType=\"pros_cons\")\n",
    "    test_X, test_y = load_glassdoor(\"collections\", \"train\", 2, \"pros_cons\", labelType = \"pros_cons\", restrict = 20000)\n",
    "    embed_X = get_revirew_embed(X, glove_lookup, np.mean)\n",
    "    embed_test_X = get_revirew_embed(test_X, glove_lookup, np.mean)\n",
    "    clf = RandomForestClassifier(max_features = 200, min_samples_split = 10, n_estimators = 10, oob_score = True,\n",
    "                             max_depth = 20, criterion = 'entropy', warm_start = True, random_state = 5)\n",
    "    print(embed_X.shape, len(y))\n",
    "    clf.fit(embed_X, y)\n",
    "    report_pros = classification_report(clf.predict(embed_test_X), test_y)\n",
    "    print(report_pros)\n",
    "    "
   ]
  },
  {
   "cell_type": "code",
   "execution_count": 23,
   "metadata": {},
   "outputs": [
    {
     "name": "stdout",
     "output_type": "stream",
     "text": [
      "(20027, 300) 20027\n",
      "              precision    recall  f1-score   support\n",
      "\n",
      "           0       0.67      0.65      0.66     10294\n",
      "           1       0.64      0.66      0.65      9706\n",
      "\n",
      "    accuracy                           0.65     20000\n",
      "   macro avg       0.65      0.65      0.65     20000\n",
      "weighted avg       0.65      0.65      0.65     20000\n",
      "\n"
     ]
    },
    {
     "name": "stderr",
     "output_type": "stream",
     "text": [
      "/Users/baidi/anaconda3/envs/nlu/lib/python3.7/site-packages/sklearn/ensemble/forest.py:460: UserWarning: Some inputs do not have OOB scores. This probably means too few trees were used to compute any reliable oob estimates.\n",
      "  warn(\"Some inputs do not have OOB scores. \"\n",
      "/Users/baidi/anaconda3/envs/nlu/lib/python3.7/site-packages/sklearn/ensemble/forest.py:465: RuntimeWarning: invalid value encountered in true_divide\n",
      "  predictions[k].sum(axis=1)[:, np.newaxis])\n"
     ]
    }
   ],
   "source": [
    "torch_pros_cons()"
   ]
  },
  {
   "cell_type": "code",
   "execution_count": null,
   "metadata": {},
   "outputs": [],
   "source": []
  }
 ],
 "metadata": {
  "kernelspec": {
   "display_name": "Python 3",
   "language": "python",
   "name": "python3"
  },
  "language_info": {
   "codemirror_mode": {
    "name": "ipython",
    "version": 3
   },
   "file_extension": ".py",
   "mimetype": "text/x-python",
   "name": "python",
   "nbconvert_exporter": "python",
   "pygments_lexer": "ipython3",
   "version": "3.7.1"
  }
 },
 "nbformat": 4,
 "nbformat_minor": 2
}
